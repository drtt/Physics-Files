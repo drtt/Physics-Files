{
 "metadata": {
  "celltoolbar": "Slideshow",
  "name": "",
  "signature": "sha256:c8382fd8ecaf3d38c669126dec95fd841c02fcfda2e5c694647cbdfd47b81dd0"
 },
 "nbformat": 3,
 "nbformat_minor": 0,
 "worksheets": [
  {
   "cells": [
    {
     "cell_type": "markdown",
     "metadata": {},
     "source": [
      "#Tools we will need"
     ]
    },
    {
     "cell_type": "markdown",
     "metadata": {
      "slideshow": {
       "slide_type": "slide"
      }
     },
     "source": [
      "##Significant Figures\n",
      "This is the book keeping task of only recording an appropriate number of digits for numerical data in lab.  While chemists seem to think that chemistry can't be done without significan figures, in reality it is an imperfect book keeping method, so I will not be quite as stringent as they are."
     ]
    },
    {
     "cell_type": "markdown",
     "metadata": {
      "slideshow": {
       "slide_type": "fragment"
      }
     },
     "source": [
      "The rules really depend first on your ability to determine which digits are **significant**.  The rules for this task are as follows:\n",
      "- non-zero digits are all significant (47.64)\n",
      "- zeros after a decimal, if preceeded by non-zero digits, are significant (6.4000)\n",
      "- zeros before a decimal, if followed by non-zero digits, are significant (10004)\n",
      "- zeros before a decimal, if NOT followed by non-zero digits, are NOT significant, unless a zero follows the decimal place as well (400 vs 400.0)\n"
     ]
    },
    {
     "cell_type": "markdown",
     "metadata": {
      "slideshow": {
       "slide_type": "slide"
      }
     },
     "source": [
      "How many significant digits do these numbers have?:\n",
      "- 45.6\n",
      "- 1007\n",
      "- 40000\n",
      "- 25.000\n",
      "- 0.000056\n",
      "- 1400.0\n",
      "- 0.004500"
     ]
    },
    {
     "cell_type": "markdown",
     "metadata": {
      "slideshow": {
       "slide_type": "slide"
      }
     },
     "source": [
      "###Mathematical operations with significant figures"
     ]
    },
    {
     "cell_type": "code",
     "collapsed": false,
     "input": [
      "\n",
      "\n",
      "profile_dir = get_ipython().profile_dir.location\n",
      "profile_dir\n",
      "\n",
      "\n"
     ],
     "language": "python",
     "metadata": {
      "slideshow": {
       "slide_type": "fragment"
      }
     },
     "outputs": [
      {
       "metadata": {},
       "output_type": "pyout",
       "prompt_number": 1,
       "text": [
        "u'C:\\\\WinPython-32bit-2.7.9.2\\\\settings\\\\.ipython\\\\profile_default'"
       ]
      }
     ],
     "prompt_number": 1
    },
    {
     "cell_type": "code",
     "collapsed": false,
     "input": [
      "import os\n",
      "tgt = os.path.join( profile_dir, 'static', 'custom')\n"
     ],
     "language": "python",
     "metadata": {
      "slideshow": {
       "slide_type": "fragment"
      }
     },
     "outputs": [],
     "prompt_number": 2
    },
    {
     "cell_type": "code",
     "collapsed": false,
     "input": [
      "%cd $tgt\n",
      "%ls"
     ],
     "language": "python",
     "metadata": {},
     "outputs": [
      {
       "output_type": "stream",
       "stream": "stdout",
       "text": [
        "C:\\WinPython-32bit-2.7.9.2\\settings\\.ipython\\profile_default\\static\\custom\n"
       ]
      },
      {
       "output_type": "stream",
       "stream": "stdout",
       "text": [
        " Volume in drive C is SYSTEM\n",
        " Volume Serial Number is 707B-D76A\n",
        "\n",
        " Directory of C:\\WinPython-32bit-2.7.9.2\\settings\\.ipython\\profile_default\\static\\custom\n",
        "\n",
        "02/08/2015  04:12 PM    <DIR>          .\n",
        "02/08/2015  04:12 PM    <DIR>          ..\n",
        "02/08/2015  04:12 PM               150 custom.css\n",
        "02/09/2015  03:30 PM             1,114 custom.js\n",
        "               2 File(s)          1,264 bytes\n",
        "               2 Dir(s)  181,646,778,368 bytes free\n"
       ]
      }
     ],
     "prompt_number": 3
    },
    {
     "cell_type": "code",
     "collapsed": false,
     "input": [
      "%%writefile custom.js\n",
      "// we want strict javascript that fails\n",
      "// on ambiguous syntax\n",
      "\"using strict\";\n",
      "\n",
      "// do not use notebook loaded  event as it is re-triggerd on\n",
      "// revert to checkpoint but this allow extesnsion to be loaded\n",
      "// late enough to work.\n",
      "//\n",
      "\n",
      "$([IPython.events]).on('app_initialized.NotebookApp', function(){\n",
      "\n",
      "\n",
      "    /**  Use path to js file relative to /static/ dir without leading slash, or\n",
      "     *  js extension.\n",
      "     *  Link directly to file is js extension.\n",
      "     *\n",
      "     *  first argument of require is a **list** that can contains several modules if needed.\n",
      "     **/\n",
      "\n",
      "    // require(['custom/noscroll']);\n",
      "    // require(['custom/clean_start'])\n",
      "    // require(['custom/toggle_all_line_number'])\n",
      "    // require(['custom/gist_it']);\n",
      "\n",
      "    /**\n",
      "     *  Link to entrypoint if extesnsion is a folder.\n",
      "     *  to be consistent with commonjs module, the entrypoint is main.js\n",
      "     *  here youcan also trigger a custom function on load that will do extra\n",
      "     *  action with the module if needed\n",
      "     **/\n",
      "     require(['custom/slidemode/main'],function(slidemode){\n",
      "    //     // do stuff\n",
      "     })\n",
      "\n",
      "});"
     ],
     "language": "python",
     "metadata": {},
     "outputs": [
      {
       "output_type": "stream",
       "stream": "stdout",
       "text": [
        "Overwriting custom.js\n"
       ]
      }
     ],
     "prompt_number": 4
    },
    {
     "cell_type": "code",
     "collapsed": false,
     "input": [
      "2+2"
     ],
     "language": "python",
     "metadata": {},
     "outputs": [
      {
       "metadata": {},
       "output_type": "pyout",
       "prompt_number": 5,
       "text": [
        "4"
       ]
      }
     ],
     "prompt_number": 5
    },
    {
     "cell_type": "code",
     "collapsed": false,
     "input": [
      "%run talktools"
     ],
     "language": "python",
     "metadata": {},
     "outputs": [
      {
       "output_type": "stream",
       "stream": "stderr",
       "text": [
        "ERROR: File `u'talktools.py'` not found.\n"
       ]
      }
     ],
     "prompt_number": 6
    },
    {
     "cell_type": "code",
     "collapsed": false,
     "input": [
      "ls\n"
     ],
     "language": "python",
     "metadata": {},
     "outputs": [
      {
       "output_type": "stream",
       "stream": "stdout",
       "text": [
        " Volume in drive C is SYSTEM\n",
        " Volume Serial Number is 707B-D76A\n",
        "\n",
        " Directory of C:\\WinPython-32bit-2.7.9.2\\settings\\.ipython\\profile_default\\static\\custom\n",
        "\n",
        "02/08/2015  04:12 PM    <DIR>          .\n",
        "02/08/2015  04:12 PM    <DIR>          ..\n",
        "02/08/2015  04:12 PM               150 custom.css\n",
        "02/09/2015  03:32 PM             1,114 custom.js\n",
        "               2 File(s)          1,264 bytes\n",
        "               2 Dir(s)  181,633,323,008 bytes free\n"
       ]
      }
     ],
     "prompt_number": 7
    },
    {
     "cell_type": "code",
     "collapsed": false,
     "input": [
      "cd .."
     ],
     "language": "python",
     "metadata": {},
     "outputs": [
      {
       "output_type": "stream",
       "stream": "stdout",
       "text": [
        "C:\\WinPython-32bit-2.7.9.2\\settings\\.ipython\\profile_default\\static\n"
       ]
      }
     ],
     "prompt_number": 8
    },
    {
     "cell_type": "code",
     "collapsed": false,
     "input": [
      "ls\n"
     ],
     "language": "python",
     "metadata": {},
     "outputs": [
      {
       "output_type": "stream",
       "stream": "stdout",
       "text": [
        " Volume in drive C is SYSTEM\n",
        " Volume Serial Number is 707B-D76A\n",
        "\n",
        " Directory of C:\\WinPython-32bit-2.7.9.2\\settings\\.ipython\\profile_default\\static\n",
        "\n",
        "02/08/2015  04:12 PM    <DIR>          .\n",
        "02/08/2015  04:12 PM    <DIR>          ..\n",
        "02/08/2015  04:12 PM    <DIR>          custom\n",
        "               0 File(s)              0 bytes\n",
        "               3 Dir(s)  181,633,384,448 bytes free\n"
       ]
      }
     ],
     "prompt_number": 9
    },
    {
     "cell_type": "code",
     "collapsed": false,
     "input": [
      "cd .."
     ],
     "language": "python",
     "metadata": {},
     "outputs": [
      {
       "output_type": "stream",
       "stream": "stdout",
       "text": [
        "C:\\WinPython-32bit-2.7.9.2\\settings\\.ipython\\profile_default\n"
       ]
      }
     ],
     "prompt_number": 10
    },
    {
     "cell_type": "code",
     "collapsed": false,
     "input": [
      "ls\n"
     ],
     "language": "python",
     "metadata": {},
     "outputs": [
      {
       "output_type": "stream",
       "stream": "stdout",
       "text": [
        " Volume in drive C is SYSTEM\n",
        " Volume Serial Number is 707B-D76A\n",
        "\n",
        " Directory of C:\\WinPython-32bit-2.7.9.2\\settings\\.ipython\\profile_default\n",
        "\n",
        "02/09/2015  03:49 PM    <DIR>          .\n",
        "02/09/2015  03:49 PM    <DIR>          ..\n",
        "02/08/2015  05:12 PM    <DIR>          db\n",
        "02/09/2015  03:49 PM            19,456 history.sqlite\n",
        "02/09/2015  03:49 PM             3,608 history.sqlite-journal\n",
        "02/08/2015  04:12 PM    <DIR>          log\n",
        "02/08/2015  04:12 PM    <DIR>          pid\n",
        "02/09/2015  03:31 PM    <DIR>          security\n",
        "02/08/2015  04:12 PM    <DIR>          startup\n",
        "02/08/2015  04:12 PM    <DIR>          static\n",
        "               2 File(s)         23,064 bytes\n",
        "               8 Dir(s)  181,633,376,256 bytes free\n"
       ]
      }
     ],
     "prompt_number": 11
    },
    {
     "cell_type": "code",
     "collapsed": false,
     "input": [
      "cd .."
     ],
     "language": "python",
     "metadata": {},
     "outputs": [
      {
       "output_type": "stream",
       "stream": "stdout",
       "text": [
        "C:\\WinPython-32bit-2.7.9.2\\settings\\.ipython\n"
       ]
      }
     ],
     "prompt_number": 12
    },
    {
     "cell_type": "code",
     "collapsed": false,
     "input": [
      "ls\n"
     ],
     "language": "python",
     "metadata": {},
     "outputs": [
      {
       "output_type": "stream",
       "stream": "stdout",
       "text": [
        " Volume in drive C is SYSTEM\n",
        " Volume Serial Number is 707B-D76A\n",
        "\n",
        " Directory of C:\\WinPython-32bit-2.7.9.2\\settings\\.ipython\n",
        "\n",
        "02/08/2015  04:12 PM    <DIR>          .\n",
        "02/08/2015  04:12 PM    <DIR>          ..\n",
        "02/08/2015  04:32 PM    <DIR>          extensions\n",
        "02/08/2015  04:12 PM    <DIR>          nbextensions\n",
        "02/09/2015  03:50 PM    <DIR>          profile_default\n",
        "02/08/2015  04:12 PM               205 README\n",
        "               1 File(s)            205 bytes\n",
        "               5 Dir(s)  181,633,376,256 bytes free\n"
       ]
      }
     ],
     "prompt_number": 13
    },
    {
     "cell_type": "code",
     "collapsed": false,
     "input": [
      "cd nbextensions/"
     ],
     "language": "python",
     "metadata": {},
     "outputs": [
      {
       "output_type": "stream",
       "stream": "stdout",
       "text": [
        "C:\\WinPython-32bit-2.7.9.2\\settings\\.ipython\\nbextensions\n"
       ]
      }
     ],
     "prompt_number": 14
    },
    {
     "cell_type": "code",
     "collapsed": false,
     "input": [
      "\n",
      "ls\n"
     ],
     "language": "python",
     "metadata": {},
     "outputs": [
      {
       "ename": "NameError",
       "evalue": "name 'ls' is not defined",
       "output_type": "pyerr",
       "traceback": [
        "\u001b[1;31m---------------------------------------------------------------------------\u001b[0m\n\u001b[1;31mNameError\u001b[0m                                 Traceback (most recent call last)",
        "\u001b[1;32m<ipython-input-15-01d8dded6def>\u001b[0m in \u001b[0;36m<module>\u001b[1;34m()\u001b[0m\n\u001b[0;32m      1\u001b[0m \u001b[1;33m\u001b[0m\u001b[0m\n\u001b[1;32m----> 2\u001b[1;33m \u001b[0mls\u001b[0m\u001b[1;33m\u001b[0m\u001b[0m\n\u001b[0m",
        "\u001b[1;31mNameError\u001b[0m: name 'ls' is not defined"
       ]
      }
     ],
     "prompt_number": 15
    },
    {
     "cell_type": "code",
     "collapsed": false,
     "input": [
      "cd .."
     ],
     "language": "python",
     "metadata": {},
     "outputs": [
      {
       "output_type": "stream",
       "stream": "stdout",
       "text": [
        "C:\\WinPython-32bit-2.7.9.2\\settings\\.ipython\n"
       ]
      }
     ],
     "prompt_number": 16
    },
    {
     "cell_type": "code",
     "collapsed": false,
     "input": [
      "ls\n"
     ],
     "language": "python",
     "metadata": {},
     "outputs": [
      {
       "output_type": "stream",
       "stream": "stdout",
       "text": [
        " Volume in drive C is SYSTEM\n",
        " Volume Serial Number is 707B-D76A\n",
        "\n",
        " Directory of C:\\WinPython-32bit-2.7.9.2\\settings\\.ipython\n",
        "\n",
        "02/08/2015  04:12 PM    <DIR>          .\n",
        "02/08/2015  04:12 PM    <DIR>          ..\n",
        "02/08/2015  04:32 PM    <DIR>          extensions\n",
        "02/08/2015  04:12 PM    <DIR>          nbextensions\n",
        "02/09/2015  03:50 PM    <DIR>          profile_default\n",
        "02/08/2015  04:12 PM               205 README\n",
        "               1 File(s)            205 bytes\n",
        "               5 Dir(s)  181,633,355,776 bytes free\n"
       ]
      }
     ],
     "prompt_number": 17
    },
    {
     "cell_type": "code",
     "collapsed": false,
     "input": [
      "cd extensions/"
     ],
     "language": "python",
     "metadata": {},
     "outputs": [
      {
       "output_type": "stream",
       "stream": "stdout",
       "text": [
        "C:\\WinPython-32bit-2.7.9.2\\settings\\.ipython\\extensions\n"
       ]
      }
     ],
     "prompt_number": 18
    },
    {
     "cell_type": "code",
     "collapsed": false,
     "input": [
      "ls\n"
     ],
     "language": "python",
     "metadata": {},
     "outputs": [
      {
       "output_type": "stream",
       "stream": "stdout",
       "text": [
        " Volume in drive C is SYSTEM\n",
        " Volume Serial Number is 707B-D76A\n",
        "\n",
        " Directory of C:\\WinPython-32bit-2.7.9.2\\settings\\.ipython\\extensions\n",
        "\n",
        "02/08/2015  04:32 PM    <DIR>          .\n",
        "02/08/2015  04:32 PM    <DIR>          ..\n",
        "02/08/2015  04:31 PM             3,650 csvtools.py\n",
        "02/08/2015  04:32 PM            31,550 physics.py\n",
        "               2 File(s)         35,200 bytes\n",
        "               2 Dir(s)  181,633,347,584 bytes free\n"
       ]
      }
     ],
     "prompt_number": 19
    },
    {
     "cell_type": "code",
     "collapsed": false,
     "input": [
      "s"
     ],
     "language": "python",
     "metadata": {},
     "outputs": []
    }
   ],
   "metadata": {}
  }
 ]
}